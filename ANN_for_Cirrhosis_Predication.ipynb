{
  "nbformat": 4,
  "nbformat_minor": 0,
  "metadata": {
    "colab": {
      "provenance": [],
      "mount_file_id": "1CoBDRXnggIgRvhKSuBps0LSkJugCRQo4",
      "authorship_tag": "ABX9TyMqy2j9CaygLZ2J93O5P9HT",
      "include_colab_link": true
    },
    "kernelspec": {
      "name": "python3",
      "display_name": "Python 3"
    },
    "language_info": {
      "name": "python"
    }
  },
  "cells": [
    {
      "cell_type": "markdown",
      "metadata": {
        "id": "view-in-github",
        "colab_type": "text"
      },
      "source": [
        "<a href=\"https://colab.research.google.com/github/SojoodAbuAlrub/Predication-of-Cirrhosis-disease-/blob/main/ANN_for_Cirrhosis_Predication.ipynb\" target=\"_parent\"><img src=\"https://colab.research.google.com/assets/colab-badge.svg\" alt=\"Open In Colab\"/></a>"
      ]
    },
    {
      "cell_type": "code",
      "source": [
        "from google.colab import drive\n",
        "drive.mount('/content/drive')"
      ],
      "metadata": {
        "colab": {
          "base_uri": "https://localhost:8080/"
        },
        "id": "WmjKzNcWHGeu",
        "outputId": "87e663b7-8260-474e-e868-f1f5d6b8e9ea"
      },
      "execution_count": 1,
      "outputs": [
        {
          "output_type": "stream",
          "name": "stdout",
          "text": [
            "Mounted at /content/drive\n"
          ]
        }
      ]
    },
    {
      "cell_type": "markdown",
      "source": [
        "# Imports"
      ],
      "metadata": {
        "id": "AQI5MLa5VW_G"
      }
    },
    {
      "cell_type": "code",
      "source": [
        "from sklearn.pipeline import make_pipeline\n"
      ],
      "metadata": {
        "id": "MKtwz2CIwhmw"
      },
      "execution_count": 2,
      "outputs": []
    },
    {
      "cell_type": "code",
      "source": [
        "import pandas as pd\n",
        "import numpy as np\n",
        "import matplotlib.pyplot as plt\n",
        "\n",
        "#Keras\n",
        "!pip install keras-tuner\n",
        "import tensorflow as tf\n",
        "from tensorflow.keras import Sequential\n",
        "from tensorflow.keras import metrics\n",
        "from tensorflow.keras.layers import Dense, Dropout\n",
        "from tensorflow.keras.callbacks import EarlyStopping\n",
        "from keras_tuner import HyperParameters as hp\n",
        "import keras_tuner as kt\n",
        "\n",
        "#Sci-kit Learn\n",
        "from sklearn.preprocessing import OneHotEncoder\n",
        "from sklearn.pipeline import make_pipeline\n",
        "from sklearn.compose import ColumnTransformer\n",
        "from sklearn.metrics import classification_report, ConfusionMatrixDisplay\n",
        "from sklearn.preprocessing import StandardScaler\n",
        "from sklearn.model_selection import train_test_split\n",
        "from sklearn.preprocessing import LabelBinarizer, LabelEncoder\n",
        "from sklearn.impute import SimpleImputer\n",
        "pd.set_option('display.max_columns',800)\n",
        "\n",
        "\n",
        "from sklearn.metrics import mean_squared_error, r2_score, mean_absolute_error\n",
        "from sklearn import set_config\n",
        "set_config(transform_output='pandas')\n"
      ],
      "metadata": {
        "id": "RKdDDENgVdvb",
        "colab": {
          "base_uri": "https://localhost:8080/"
        },
        "outputId": "5125d38d-e549-4c42-8ae2-306bbe7b8137"
      },
      "execution_count": 16,
      "outputs": [
        {
          "output_type": "stream",
          "name": "stdout",
          "text": [
            "Requirement already satisfied: keras-tuner in /usr/local/lib/python3.10/dist-packages (1.4.7)\n",
            "Requirement already satisfied: keras in /usr/local/lib/python3.10/dist-packages (from keras-tuner) (3.5.0)\n",
            "Requirement already satisfied: packaging in /usr/local/lib/python3.10/dist-packages (from keras-tuner) (24.2)\n",
            "Requirement already satisfied: requests in /usr/local/lib/python3.10/dist-packages (from keras-tuner) (2.32.3)\n",
            "Requirement already satisfied: kt-legacy in /usr/local/lib/python3.10/dist-packages (from keras-tuner) (1.0.5)\n",
            "Requirement already satisfied: absl-py in /usr/local/lib/python3.10/dist-packages (from keras->keras-tuner) (1.4.0)\n",
            "Requirement already satisfied: numpy in /usr/local/lib/python3.10/dist-packages (from keras->keras-tuner) (1.26.4)\n",
            "Requirement already satisfied: rich in /usr/local/lib/python3.10/dist-packages (from keras->keras-tuner) (13.9.4)\n",
            "Requirement already satisfied: namex in /usr/local/lib/python3.10/dist-packages (from keras->keras-tuner) (0.0.8)\n",
            "Requirement already satisfied: h5py in /usr/local/lib/python3.10/dist-packages (from keras->keras-tuner) (3.12.1)\n",
            "Requirement already satisfied: optree in /usr/local/lib/python3.10/dist-packages (from keras->keras-tuner) (0.13.1)\n",
            "Requirement already satisfied: ml-dtypes in /usr/local/lib/python3.10/dist-packages (from keras->keras-tuner) (0.4.1)\n",
            "Requirement already satisfied: charset-normalizer<4,>=2 in /usr/local/lib/python3.10/dist-packages (from requests->keras-tuner) (3.4.0)\n",
            "Requirement already satisfied: idna<4,>=2.5 in /usr/local/lib/python3.10/dist-packages (from requests->keras-tuner) (3.10)\n",
            "Requirement already satisfied: urllib3<3,>=1.21.1 in /usr/local/lib/python3.10/dist-packages (from requests->keras-tuner) (2.2.3)\n",
            "Requirement already satisfied: certifi>=2017.4.17 in /usr/local/lib/python3.10/dist-packages (from requests->keras-tuner) (2024.8.30)\n",
            "Requirement already satisfied: typing-extensions>=4.5.0 in /usr/local/lib/python3.10/dist-packages (from optree->keras->keras-tuner) (4.12.2)\n",
            "Requirement already satisfied: markdown-it-py>=2.2.0 in /usr/local/lib/python3.10/dist-packages (from rich->keras->keras-tuner) (3.0.0)\n",
            "Requirement already satisfied: pygments<3.0.0,>=2.13.0 in /usr/local/lib/python3.10/dist-packages (from rich->keras->keras-tuner) (2.18.0)\n",
            "Requirement already satisfied: mdurl~=0.1 in /usr/local/lib/python3.10/dist-packages (from markdown-it-py>=2.2.0->rich->keras->keras-tuner) (0.1.2)\n"
          ]
        }
      ]
    },
    {
      "cell_type": "markdown",
      "source": [
        "# Loading Data"
      ],
      "metadata": {
        "id": "MXvXkWCSVcUy"
      }
    },
    {
      "cell_type": "code",
      "source": [
        "data=pd.read_csv('/content/drive/MyDrive/AXSOSACADEMY (1)/05-IntermediateML/cirrhosis.csv')"
      ],
      "metadata": {
        "id": "R6hD8j0YWIQf"
      },
      "execution_count": 4,
      "outputs": []
    },
    {
      "cell_type": "code",
      "source": [
        "# Checking info\n",
        "data.info()"
      ],
      "metadata": {
        "colab": {
          "base_uri": "https://localhost:8080/"
        },
        "id": "259-epTjWRRt",
        "outputId": "ab3706e6-bd5f-4f79-a780-d4c41cb35e48"
      },
      "execution_count": 5,
      "outputs": [
        {
          "output_type": "stream",
          "name": "stdout",
          "text": [
            "<class 'pandas.core.frame.DataFrame'>\n",
            "RangeIndex: 418 entries, 0 to 417\n",
            "Data columns (total 20 columns):\n",
            " #   Column         Non-Null Count  Dtype  \n",
            "---  ------         --------------  -----  \n",
            " 0   ID             418 non-null    int64  \n",
            " 1   N_Days         418 non-null    int64  \n",
            " 2   Status         418 non-null    object \n",
            " 3   Drug           312 non-null    object \n",
            " 4   Age            418 non-null    int64  \n",
            " 5   Sex            418 non-null    object \n",
            " 6   Ascites        312 non-null    object \n",
            " 7   Hepatomegaly   312 non-null    object \n",
            " 8   Spiders        312 non-null    object \n",
            " 9   Edema          418 non-null    object \n",
            " 10  Bilirubin      418 non-null    float64\n",
            " 11  Cholesterol    284 non-null    float64\n",
            " 12  Albumin        418 non-null    float64\n",
            " 13  Copper         310 non-null    float64\n",
            " 14  Alk_Phos       312 non-null    float64\n",
            " 15  SGOT           312 non-null    float64\n",
            " 16  Tryglicerides  282 non-null    float64\n",
            " 17  Platelets      407 non-null    float64\n",
            " 18  Prothrombin    416 non-null    float64\n",
            " 19  Stage          412 non-null    float64\n",
            "dtypes: float64(10), int64(3), object(7)\n",
            "memory usage: 65.4+ KB\n"
          ]
        }
      ]
    },
    {
      "cell_type": "markdown",
      "source": [
        "## Cleaning Data"
      ],
      "metadata": {
        "id": "QYuCTQrjlnBE"
      }
    },
    {
      "cell_type": "code",
      "source": [
        "# Dropping ID column\n",
        "data.drop('ID', axis=1, inplace=True)"
      ],
      "metadata": {
        "id": "fJHBwPYOxb81"
      },
      "execution_count": 6,
      "outputs": []
    },
    {
      "cell_type": "code",
      "source": [
        "# Checking duplicates\n",
        "data.duplicated().sum()"
      ],
      "metadata": {
        "colab": {
          "base_uri": "https://localhost:8080/"
        },
        "id": "4dbi0LWXl-LY",
        "outputId": "9540e3dc-4a75-406d-b56e-7748571baa4c"
      },
      "execution_count": 7,
      "outputs": [
        {
          "output_type": "execute_result",
          "data": {
            "text/plain": [
              "0"
            ]
          },
          "metadata": {},
          "execution_count": 7
        }
      ]
    },
    {
      "cell_type": "code",
      "source": [
        "# Checking null values\n",
        "data.isna().sum().sum()"
      ],
      "metadata": {
        "colab": {
          "base_uri": "https://localhost:8080/"
        },
        "id": "Q64X64Sid-u9",
        "outputId": "362f288a-5934-41ac-e2e2-d95d268127dd"
      },
      "execution_count": 8,
      "outputs": [
        {
          "output_type": "execute_result",
          "data": {
            "text/plain": [
              "1033"
            ]
          },
          "metadata": {},
          "execution_count": 8
        }
      ]
    },
    {
      "cell_type": "code",
      "source": [
        "# Defining numericasl data and categorical data\n",
        "num_cols = data.select_dtypes('number').columns\n",
        "num_cols = [col for col in num_cols if col != 'ID']\n",
        "\n",
        "cat_cols = data.select_dtypes('object').columns.drop('Status')\n",
        "num_cols"
      ],
      "metadata": {
        "id": "tIL6M1pC1-XE",
        "colab": {
          "base_uri": "https://localhost:8080/"
        },
        "outputId": "e43c41c7-dec1-4a4d-c4ea-281ad107f07b"
      },
      "execution_count": 9,
      "outputs": [
        {
          "output_type": "execute_result",
          "data": {
            "text/plain": [
              "['N_Days',\n",
              " 'Age',\n",
              " 'Bilirubin',\n",
              " 'Cholesterol',\n",
              " 'Albumin',\n",
              " 'Copper',\n",
              " 'Alk_Phos',\n",
              " 'SGOT',\n",
              " 'Tryglicerides',\n",
              " 'Platelets',\n",
              " 'Prothrombin',\n",
              " 'Stage']"
            ]
          },
          "metadata": {},
          "execution_count": 9
        }
      ]
    },
    {
      "cell_type": "markdown",
      "source": [
        "## Imputing Null values"
      ],
      "metadata": {
        "id": "OPuQ_nDHdrx5"
      }
    },
    {
      "cell_type": "code",
      "source": [
        "# Imputing NANs\n",
        "numerical_imputer = SimpleImputer(strategy='median')\n",
        "categorical_imputer = SimpleImputer(strategy='most_frequent')\n",
        "\n",
        "imputed_num_data = numerical_imputer.fit_transform(data[num_cols])\n",
        "imputed_cat_data = categorical_imputer.fit_transform(data[cat_cols])\n",
        "data[num_cols] = imputed_num_data\n",
        "data[cat_cols] = imputed_cat_data"
      ],
      "metadata": {
        "id": "QguX03b12m_J"
      },
      "execution_count": 10,
      "outputs": []
    },
    {
      "cell_type": "markdown",
      "source": [
        "## Standard Scaler"
      ],
      "metadata": {
        "id": "Ex-TVpLHduhh"
      }
    },
    {
      "cell_type": "code",
      "source": [
        "# Standard scaler\n",
        "scaler = StandardScaler()\n",
        "# Pipeline for numerical data\n",
        "num_pipe = make_pipeline(scaler)\n",
        "# Numeric tuple for ColumnTransformer\n",
        "num_tuple = ('numeric', num_pipe, num_cols)"
      ],
      "metadata": {
        "id": "ukKR7DndkBKA"
      },
      "execution_count": 11,
      "outputs": []
    },
    {
      "cell_type": "markdown",
      "source": [
        "## preprocessing"
      ],
      "metadata": {
        "id": "fOgVrbzbdxCr"
      }
    },
    {
      "cell_type": "code",
      "source": [
        "# Pipeline for categorical data\n",
        "ohe_encoder = OneHotEncoder(sparse_output=False, handle_unknown='ignore')\n",
        "ohe_pipe = make_pipeline(ohe_encoder)\n",
        "# Making a ohe_tuple for ColumnTransformer\n",
        "cat_tuple = ('categorical', ohe_pipe, cat_cols)"
      ],
      "metadata": {
        "id": "oUmIycY0key_"
      },
      "execution_count": 14,
      "outputs": []
    },
    {
      "cell_type": "code",
      "source": [
        "# Instantiate with verbose_feature_names_out=False\n",
        "col_transformer = ColumnTransformer([num_tuple, cat_tuple],\n",
        "                                    verbose_feature_names_out=False)"
      ],
      "metadata": {
        "id": "7ahzxWZElQw5"
      },
      "execution_count": 17,
      "outputs": []
    },
    {
      "cell_type": "markdown",
      "source": [
        "# Defining X, y"
      ],
      "metadata": {
        "id": "9hYEASza-1vE"
      }
    },
    {
      "cell_type": "code",
      "source": [
        "X=data.drop('Status',axis=1)\n",
        "y=data['Status']\n",
        "\n",
        "# Split Training Data\n",
        "X_train, X_test, y_train, y_test = train_test_split(X, y, random_state=42)"
      ],
      "metadata": {
        "id": "Yb2XMlbkhpHc"
      },
      "execution_count": 18,
      "outputs": []
    },
    {
      "cell_type": "code",
      "source": [
        "# Fit columns transformer training data\n",
        "col_transformer.fit(X_train)\n",
        "\n",
        "# Transform the training data and testing data\n",
        "X_train_tf = col_transformer.transform(X_train)\n",
        "X_test_tf = col_transformer.transform(X_test)"
      ],
      "metadata": {
        "id": "goxYgZ35laZR"
      },
      "execution_count": 19,
      "outputs": []
    },
    {
      "cell_type": "code",
      "source": [
        "from sklearn.preprocessing import LabelEncoder, LabelBinarizer\n",
        "# encode labels\n",
        "encoder = LabelEncoder()\n",
        "\n",
        "encoder.fit(y_train)\n",
        "y_train_enc = encoder.transform(y_train)\n",
        "y_test_enc = encoder.transform(y_test)\n",
        "\n",
        "# make a record of the classes, in order of the encoding, in case we want to\n",
        "classes = encoder.classes_\n",
        "\n",
        "# binarize labels\n",
        "binarizer = LabelBinarizer()\n",
        "\n",
        "binarizer.fit(y_train_enc)\n",
        "y_train_bin = binarizer.transform(y_train_enc)\n",
        "y_test_bin = binarizer.transform(y_test_enc)"
      ],
      "metadata": {
        "id": "wKJbB2ws8wRj"
      },
      "execution_count": 21,
      "outputs": []
    },
    {
      "cell_type": "markdown",
      "source": [
        "# Building multiclass classification model"
      ],
      "metadata": {
        "id": "TjnajSBkd96T"
      }
    },
    {
      "cell_type": "code",
      "source": [
        "# Define shape\n",
        "input_shape = X_train_tf.shape[1]\n",
        "input_shape"
      ],
      "metadata": {
        "colab": {
          "base_uri": "https://localhost:8080/"
        },
        "id": "mVADpd3i6BfZ",
        "outputId": "a7b600e8-0ca5-416d-d6c6-a79d5cc89976"
      },
      "execution_count": 22,
      "outputs": [
        {
          "output_type": "execute_result",
          "data": {
            "text/plain": [
              "25"
            ]
          },
          "metadata": {},
          "execution_count": 22
        }
      ]
    },
    {
      "cell_type": "code",
      "source": [
        "# Define number of classes\n",
        "num_classes = len(classes)\n",
        "num_classes\n"
      ],
      "metadata": {
        "colab": {
          "base_uri": "https://localhost:8080/"
        },
        "id": "ObNCjUII8PQE",
        "outputId": "c3e26c31-77a3-4ef5-cd8d-9dac0e3a08f4"
      },
      "execution_count": 23,
      "outputs": [
        {
          "output_type": "execute_result",
          "data": {
            "text/plain": [
              "3"
            ]
          },
          "metadata": {},
          "execution_count": 23
        }
      ]
    },
    {
      "cell_type": "code",
      "source": [
        "# Build multiclass classification model within function\n",
        "def build_model():\n",
        "    # Instantiate Model\n",
        "    model = Sequential()\n",
        "\n",
        "# First hidden layer\n",
        "    model.add(Dense(50,\n",
        "            input_dim=input_shape,\n",
        "            activation='relu'))\n",
        "    model.add(Dense(20,\n",
        "            activation='relu'))\n",
        "    model.add(Dropout(.2))\n",
        "# Output layer\n",
        "    model.add(Dense(num_classes, activation='softmax'))\n",
        "\n",
        "# Compile Model\n",
        "    model.compile(loss='categorical_crossentropy', optimizer='adam',\n",
        "          metrics=['accuracy', metrics.Precision(), metrics.Recall()])"
      ],
      "metadata": {
        "id": "VQCtQgvMONU_"
      },
      "execution_count": 37,
      "outputs": []
    },
    {
      "cell_type": "code",
      "source": [
        "# Early stopping callback\n",
        "early_stopping = EarlyStopping(monitor='val_loss', patience=5, restore_best_weights=True)"
      ],
      "metadata": {
        "id": "UQsioZYB9HKj"
      },
      "execution_count": 25,
      "outputs": []
    },
    {
      "cell_type": "code",
      "source": [
        "# Call our build function to build model\n",
        "model = build_model()\n",
        "\n",
        "# Get model summary\n",
        "model.summary()"
      ],
      "metadata": {
        "colab": {
          "base_uri": "https://localhost:8080/",
          "height": 315
        },
        "id": "VmXKtE_Y6Ba4",
        "outputId": "3d1a0f00-2701-41b3-a9ca-69a4e0db5411"
      },
      "execution_count": 34,
      "outputs": [
        {
          "output_type": "stream",
          "name": "stderr",
          "text": [
            "/usr/local/lib/python3.10/dist-packages/keras/src/layers/core/dense.py:87: UserWarning: Do not pass an `input_shape`/`input_dim` argument to a layer. When using Sequential models, prefer using an `Input(shape)` object as the first layer in the model instead.\n",
            "  super().__init__(activity_regularizer=activity_regularizer, **kwargs)\n"
          ]
        },
        {
          "output_type": "display_data",
          "data": {
            "text/plain": [
              "\u001b[1mModel: \"sequential_3\"\u001b[0m\n"
            ],
            "text/html": [
              "<pre style=\"white-space:pre;overflow-x:auto;line-height:normal;font-family:Menlo,'DejaVu Sans Mono',consolas,'Courier New',monospace\"><span style=\"font-weight: bold\">Model: \"sequential_3\"</span>\n",
              "</pre>\n"
            ]
          },
          "metadata": {}
        },
        {
          "output_type": "display_data",
          "data": {
            "text/plain": [
              "┏━━━━━━━━━━━━━━━━━━━━━━━━━━━━━━━━━━━━━━┳━━━━━━━━━━━━━━━━━━━━━━━━━━━━━┳━━━━━━━━━━━━━━━━━┓\n",
              "┃\u001b[1m \u001b[0m\u001b[1mLayer (type)                        \u001b[0m\u001b[1m \u001b[0m┃\u001b[1m \u001b[0m\u001b[1mOutput Shape               \u001b[0m\u001b[1m \u001b[0m┃\u001b[1m \u001b[0m\u001b[1m        Param #\u001b[0m\u001b[1m \u001b[0m┃\n",
              "┡━━━━━━━━━━━━━━━━━━━━━━━━━━━━━━━━━━━━━━╇━━━━━━━━━━━━━━━━━━━━━━━━━━━━━╇━━━━━━━━━━━━━━━━━┩\n",
              "│ dense_9 (\u001b[38;5;33mDense\u001b[0m)                      │ (\u001b[38;5;45mNone\u001b[0m, \u001b[38;5;34m50\u001b[0m)                  │           \u001b[38;5;34m1,300\u001b[0m │\n",
              "├──────────────────────────────────────┼─────────────────────────────┼─────────────────┤\n",
              "│ dense_10 (\u001b[38;5;33mDense\u001b[0m)                     │ (\u001b[38;5;45mNone\u001b[0m, \u001b[38;5;34m20\u001b[0m)                  │           \u001b[38;5;34m1,020\u001b[0m │\n",
              "├──────────────────────────────────────┼─────────────────────────────┼─────────────────┤\n",
              "│ dropout_3 (\u001b[38;5;33mDropout\u001b[0m)                  │ (\u001b[38;5;45mNone\u001b[0m, \u001b[38;5;34m20\u001b[0m)                  │               \u001b[38;5;34m0\u001b[0m │\n",
              "├──────────────────────────────────────┼─────────────────────────────┼─────────────────┤\n",
              "│ dense_11 (\u001b[38;5;33mDense\u001b[0m)                     │ (\u001b[38;5;45mNone\u001b[0m, \u001b[38;5;34m3\u001b[0m)                   │              \u001b[38;5;34m63\u001b[0m │\n",
              "└──────────────────────────────────────┴─────────────────────────────┴─────────────────┘\n"
            ],
            "text/html": [
              "<pre style=\"white-space:pre;overflow-x:auto;line-height:normal;font-family:Menlo,'DejaVu Sans Mono',consolas,'Courier New',monospace\">┏━━━━━━━━━━━━━━━━━━━━━━━━━━━━━━━━━━━━━━┳━━━━━━━━━━━━━━━━━━━━━━━━━━━━━┳━━━━━━━━━━━━━━━━━┓\n",
              "┃<span style=\"font-weight: bold\"> Layer (type)                         </span>┃<span style=\"font-weight: bold\"> Output Shape                </span>┃<span style=\"font-weight: bold\">         Param # </span>┃\n",
              "┡━━━━━━━━━━━━━━━━━━━━━━━━━━━━━━━━━━━━━━╇━━━━━━━━━━━━━━━━━━━━━━━━━━━━━╇━━━━━━━━━━━━━━━━━┩\n",
              "│ dense_9 (<span style=\"color: #0087ff; text-decoration-color: #0087ff\">Dense</span>)                      │ (<span style=\"color: #00d7ff; text-decoration-color: #00d7ff\">None</span>, <span style=\"color: #00af00; text-decoration-color: #00af00\">50</span>)                  │           <span style=\"color: #00af00; text-decoration-color: #00af00\">1,300</span> │\n",
              "├──────────────────────────────────────┼─────────────────────────────┼─────────────────┤\n",
              "│ dense_10 (<span style=\"color: #0087ff; text-decoration-color: #0087ff\">Dense</span>)                     │ (<span style=\"color: #00d7ff; text-decoration-color: #00d7ff\">None</span>, <span style=\"color: #00af00; text-decoration-color: #00af00\">20</span>)                  │           <span style=\"color: #00af00; text-decoration-color: #00af00\">1,020</span> │\n",
              "├──────────────────────────────────────┼─────────────────────────────┼─────────────────┤\n",
              "│ dropout_3 (<span style=\"color: #0087ff; text-decoration-color: #0087ff\">Dropout</span>)                  │ (<span style=\"color: #00d7ff; text-decoration-color: #00d7ff\">None</span>, <span style=\"color: #00af00; text-decoration-color: #00af00\">20</span>)                  │               <span style=\"color: #00af00; text-decoration-color: #00af00\">0</span> │\n",
              "├──────────────────────────────────────┼─────────────────────────────┼─────────────────┤\n",
              "│ dense_11 (<span style=\"color: #0087ff; text-decoration-color: #0087ff\">Dense</span>)                     │ (<span style=\"color: #00d7ff; text-decoration-color: #00d7ff\">None</span>, <span style=\"color: #00af00; text-decoration-color: #00af00\">3</span>)                   │              <span style=\"color: #00af00; text-decoration-color: #00af00\">63</span> │\n",
              "└──────────────────────────────────────┴─────────────────────────────┴─────────────────┘\n",
              "</pre>\n"
            ]
          },
          "metadata": {}
        },
        {
          "output_type": "display_data",
          "data": {
            "text/plain": [
              "\u001b[1m Total params: \u001b[0m\u001b[38;5;34m2,383\u001b[0m (9.31 KB)\n"
            ],
            "text/html": [
              "<pre style=\"white-space:pre;overflow-x:auto;line-height:normal;font-family:Menlo,'DejaVu Sans Mono',consolas,'Courier New',monospace\"><span style=\"font-weight: bold\"> Total params: </span><span style=\"color: #00af00; text-decoration-color: #00af00\">2,383</span> (9.31 KB)\n",
              "</pre>\n"
            ]
          },
          "metadata": {}
        },
        {
          "output_type": "display_data",
          "data": {
            "text/plain": [
              "\u001b[1m Trainable params: \u001b[0m\u001b[38;5;34m2,383\u001b[0m (9.31 KB)\n"
            ],
            "text/html": [
              "<pre style=\"white-space:pre;overflow-x:auto;line-height:normal;font-family:Menlo,'DejaVu Sans Mono',consolas,'Courier New',monospace\"><span style=\"font-weight: bold\"> Trainable params: </span><span style=\"color: #00af00; text-decoration-color: #00af00\">2,383</span> (9.31 KB)\n",
              "</pre>\n"
            ]
          },
          "metadata": {}
        },
        {
          "output_type": "display_data",
          "data": {
            "text/plain": [
              "\u001b[1m Non-trainable params: \u001b[0m\u001b[38;5;34m0\u001b[0m (0.00 B)\n"
            ],
            "text/html": [
              "<pre style=\"white-space:pre;overflow-x:auto;line-height:normal;font-family:Menlo,'DejaVu Sans Mono',consolas,'Courier New',monospace\"><span style=\"font-weight: bold\"> Non-trainable params: </span><span style=\"color: #00af00; text-decoration-color: #00af00\">0</span> (0.00 B)\n",
              "</pre>\n"
            ]
          },
          "metadata": {}
        }
      ]
    },
    {
      "cell_type": "code",
      "source": [
        "# fit model\n",
        "history = model.fit(X_train_tf, y_train_bin,\n",
        "                          validation_split = .2,\n",
        "                          epochs=50,\n",
        "                        callbacks=[early_stopping])"
      ],
      "metadata": {
        "colab": {
          "base_uri": "https://localhost:8080/"
        },
        "id": "7140eSXU_S6u",
        "outputId": "22b9be90-bda2-42c2-9112-8ee3afcb9523"
      },
      "execution_count": 35,
      "outputs": [
        {
          "output_type": "stream",
          "name": "stdout",
          "text": [
            "Epoch 1/50\n",
            "\u001b[1m8/8\u001b[0m \u001b[32m━━━━━━━━━━━━━━━━━━━━\u001b[0m\u001b[37m\u001b[0m \u001b[1m2s\u001b[0m 81ms/step - accuracy: 0.3813 - loss: 1.1633 - precision_3: 0.5388 - recall_3: 0.0437 - val_accuracy: 0.4921 - val_loss: 1.1519 - val_precision_3: 0.0000e+00 - val_recall_3: 0.0000e+00\n",
            "Epoch 2/50\n",
            "\u001b[1m8/8\u001b[0m \u001b[32m━━━━━━━━━━━━━━━━━━━━\u001b[0m\u001b[37m\u001b[0m \u001b[1m0s\u001b[0m 11ms/step - accuracy: 0.5531 - loss: 1.0423 - precision_3: 0.6285 - recall_3: 0.0474 - val_accuracy: 0.5556 - val_loss: 1.0576 - val_precision_3: 0.2500 - val_recall_3: 0.0159\n",
            "Epoch 3/50\n",
            "\u001b[1m8/8\u001b[0m \u001b[32m━━━━━━━━━━━━━━━━━━━━\u001b[0m\u001b[37m\u001b[0m \u001b[1m0s\u001b[0m 11ms/step - accuracy: 0.6068 - loss: 0.9681 - precision_3: 0.6490 - recall_3: 0.1385 - val_accuracy: 0.5714 - val_loss: 0.9829 - val_precision_3: 0.6250 - val_recall_3: 0.0794\n",
            "Epoch 4/50\n",
            "\u001b[1m8/8\u001b[0m \u001b[32m━━━━━━━━━━━━━━━━━━━━\u001b[0m\u001b[37m\u001b[0m \u001b[1m0s\u001b[0m 10ms/step - accuracy: 0.6333 - loss: 0.9337 - precision_3: 0.6591 - recall_3: 0.2104 - val_accuracy: 0.5873 - val_loss: 0.9183 - val_precision_3: 0.7500 - val_recall_3: 0.2381\n",
            "Epoch 5/50\n",
            "\u001b[1m8/8\u001b[0m \u001b[32m━━━━━━━━━━━━━━━━━━━━\u001b[0m\u001b[37m\u001b[0m \u001b[1m0s\u001b[0m 11ms/step - accuracy: 0.6199 - loss: 0.8984 - precision_3: 0.7353 - recall_3: 0.3546 - val_accuracy: 0.6032 - val_loss: 0.8649 - val_precision_3: 0.7429 - val_recall_3: 0.4127\n"
          ]
        }
      ]
    },
    {
      "cell_type": "markdown",
      "source": [
        "## Plotting History"
      ],
      "metadata": {
        "id": "3Rs0-vrieJnL"
      }
    },
    {
      "cell_type": "code",
      "source": [
        "# Plotting history\n",
        "def classification_metrics(y_true, y_pred, label='',\n",
        "                           output_dict=False, figsize=(8,4),\n",
        "                           normalize='true', cmap='Blues',\n",
        "                           colorbar=False):\n",
        "\n",
        "    # Get the classification report\n",
        "    report = classification_report(y_true, y_pred)\n",
        "    ## Print header and report\n",
        "    header = \"-\"*70\n",
        "    print(header, f\" Classification Metrics: {label}\", header, sep='\\n')\n",
        "    print(report)\n",
        "\n",
        "    ## CONFUSION MATRICES SUBPLOTS\n",
        "    fig, axes = plt.subplots(ncols=2, figsize=figsize)\n",
        "\n",
        "    # create a confusion matrix  of raw counts\n",
        "    ConfusionMatrixDisplay.from_predictions(y_true, y_pred,\n",
        "                normalize=None, cmap='gist_gray', values_format=\"d\", colorbar=colorbar,\n",
        "                ax = axes[0],);\n",
        "    axes[0].set_title(\"Raw Counts\")\n",
        "\n",
        "    # create a confusion matrix with the test data\n",
        "    ConfusionMatrixDisplay.from_predictions(y_true, y_pred,\n",
        "                normalize=normalize, cmap=cmap, values_format=\".2f\", colorbar=colorbar,\n",
        "                ax = axes[1]);\n",
        "    axes[1].set_title(\"Normalized Confusion Matrix\")\n",
        "\n",
        "    # Adjust layout and show figure\n",
        "    fig.tight_layout()\n",
        "    plt.show()\n",
        "\n",
        "    # Return dictionary of classification_report\n",
        "    if output_dict==True:\n",
        "        report_dict = classification_report(y_true, y_pred, output_dict=True)\n",
        "        return report_dict\n",
        "\n",
        "# Custom function for plotting each metric\n",
        "def plot_history(history, figsize=(6,12), marker='o'):\n",
        "\n",
        "    # Get list of metrics from history\n",
        "    metrics = [c for c in history.history if not c.startswith('val_')]\n",
        "\n",
        "    ## Separate row for each metric\n",
        "    fig, axes = plt.subplots(nrows=len(metrics),figsize=figsize)\n",
        "\n",
        "    # For each metric\n",
        "    for i, metric_name in enumerate(metrics):\n",
        "\n",
        "        # Get the axis for the current metric\n",
        "        ax = axes[i]\n",
        "\n",
        "        # Get metric from history.history\n",
        "        metric_values = history.history[metric_name]\n",
        "        # Get epochs from history\n",
        "        epochs = history.epoch\n",
        "\n",
        "        # Plot the training metric\n",
        "        ax.plot(epochs, metric_values, label=metric_name, marker=marker)\n",
        "\n",
        "        ## Check if val_{metric} exists. if so, plot:\n",
        "        val_metric_name = f\"val_{metric_name}\"\n",
        "        if val_metric_name in history.history:\n",
        "            # Get validation values and plot\n",
        "            metric_values = history.history[val_metric_name]\n",
        "            ax.plot(epochs,metric_values,label=val_metric_name, marker=marker)\n",
        "\n",
        "        # Final subplot adjustments\n",
        "        ax.legend()\n",
        "        ax.set_title(metric_name)\n",
        "    fig.tight_layout()\n",
        "\n",
        "    return fig, axes"
      ],
      "metadata": {
        "id": "ifP5kdvTAbrP"
      },
      "execution_count": 38,
      "outputs": []
    },
    {
      "cell_type": "code",
      "source": [
        "# visualize history\n",
        "plot_history(history);"
      ],
      "metadata": {
        "colab": {
          "base_uri": "https://localhost:8080/",
          "height": 1000
        },
        "id": "dWJ7GamlA4bO",
        "outputId": "9c0b3e61-fb81-4de8-ba7f-fe24cf73ef3c"
      },
      "execution_count": 39,
      "outputs": [
        {
          "output_type": "display_data",
          "data": {
            "text/plain": [
              "<Figure size 600x1200 with 4 Axes>"
            ],
            "image/png": "[encoded data removed]"
          },
          "metadata": {}
        }
      ]
    },
    {
      "cell_type": "markdown",
      "source": [
        "## Evaluate the model"
      ],
      "metadata": {
        "id": "NRS5S5IvBGo9"
      }
    },
    {
      "cell_type": "code",
      "source": [
        "# Get Predictions\n",
        "predictions=model.predict(X_test_tf)\n",
        "predictions.argmax(axis=1)"
      ],
      "metadata": {
        "colab": {
          "base_uri": "https://localhost:8080/"
        },
        "id": "qk53jP8RPN3G",
        "outputId": "8a3bb6d8-e88e-49f0-f2c2-dcd2e864e3ef"
      },
      "execution_count": 42,
      "outputs": [
        {
          "output_type": "stream",
          "name": "stdout",
          "text": [
            "\u001b[1m4/4\u001b[0m \u001b[32m━━━━━━━━━━━━━━━━━━━━\u001b[0m\u001b[37m\u001b[0m \u001b[1m0s\u001b[0m 3ms/step  \n"
          ]
        },
        {
          "output_type": "execute_result",
          "data": {
            "text/plain": [
              "array([0, 0, 0, 0, 0, 0, 0, 0, 0, 0, 2, 0, 0, 0, 0, 0, 0, 0, 0, 0, 0, 0,\n",
              "       0, 0, 0, 0, 0, 0, 1, 0, 0, 0, 0, 0, 0, 0, 0, 0, 0, 0, 0, 0, 1, 0,\n",
              "       0, 0, 0, 0, 0, 0, 0, 0, 0, 0, 0, 0, 0, 0, 0, 0, 2, 0, 0, 0, 0, 0,\n",
              "       0, 0, 0, 0, 0, 0, 0, 0, 0, 0, 0, 0, 2, 0, 0, 0, 2, 0, 0, 0, 0, 0,\n",
              "       0, 0, 2, 0, 1, 0, 0, 0, 0, 0, 2, 0, 0, 0, 0, 0, 0])"
            ]
          },
          "metadata": {},
          "execution_count": 42
        }
      ]
    },
    {
      "cell_type": "code",
      "source": [
        "predictions_score= predictions.max(axis=1)\n",
        "threshold=0.8\n",
        "predictions_score[predictions_score < threshold] = 0"
      ],
      "metadata": {
        "id": "F8PDx0zoBD6z"
      },
      "execution_count": 45,
      "outputs": []
    },
    {
      "cell_type": "code",
      "source": [
        "# convert predictions and labels into integers representing each fish class.\n",
        "y_pred = np.argmax(predictions, axis=1)\n",
        "y_true = np.argmax(y_test_bin, axis=1)"
      ],
      "metadata": {
        "id": "vLWlQT7vT-2b"
      },
      "execution_count": 49,
      "outputs": []
    },
    {
      "cell_type": "code",
      "source": [
        "# Getting Sklearn Metrics\n",
        "classification_metrics(y_true, y_pred, label='Test Data', figsize=(10,8));"
      ],
      "metadata": {
        "colab": {
          "base_uri": "https://localhost:8080/",
          "height": 767
        },
        "id": "CedLaSSrBeiq",
        "outputId": "f9bff072-e91b-4551-ac8c-b6132db15556"
      },
      "execution_count": 50,
      "outputs": [
        {
          "output_type": "stream",
          "name": "stdout",
          "text": [
            "----------------------------------------------------------------------\n",
            " Classification Metrics: Test Data\n",
            "----------------------------------------------------------------------\n",
            "              precision    recall  f1-score   support\n",
            "\n",
            "           0       0.55      0.96      0.70        55\n",
            "           1       0.33      0.17      0.22         6\n",
            "           2       0.67      0.09      0.16        44\n",
            "\n",
            "    accuracy                           0.55       105\n",
            "   macro avg       0.52      0.41      0.36       105\n",
            "weighted avg       0.59      0.55      0.45       105\n",
            "\n"
          ]
        },
        {
          "output_type": "display_data",
          "data": {
            "text/plain": [
              "<Figure size 1000x800 with 2 Axes>"
            ],
            "image/png": "[encoded data removed]"
          },
          "metadata": {}
        }
      ]
    },
    {
      "cell_type": "markdown",
      "source": [
        "## Tunning the model"
      ],
      "metadata": {
        "id": "edTjDfzMB3R8"
      }
    },
    {
      "cell_type": "code",
      "source": [
        "# Bulding a new Model with optimizer\n",
        "def build_model(hp):\n",
        "    # Instantiate Model\n",
        "    model = Sequential()\n",
        "    # First hidden layer\n",
        "    model.add(Dense(30,\n",
        "                input_dim =input_shape,\n",
        "                activation = 'relu',\n",
        "    ))\n",
        "\n",
        "    model.add(Dense(units=hp.Int('units', min_value=10, max_value=50, step=5), activation='relu',\n",
        "              ))\n",
        "\n",
        "    model.add(Dropout(hp.Float(name=\"dropout_value\", min_value=0.0, max_value=0.5, step=0.1)))\n",
        "    # Output\n",
        "    model.add(Dense(3, activation = 'softmax'))\n",
        "\n",
        "    # Compile Model\n",
        "    learning_rate = hp.Choice('learning_rate', values=[0.001, 0.01, 0.1, 0.2])\n",
        "    model.compile(optimizer=hp.Choice('optimizer',['rmsprop','nadam','adam']),\n",
        "                  loss='categorical_crossentropy',\n",
        "                  metrics=['accuracy',\n",
        "                           tf.keras.metrics.Recall(name='recall'),\n",
        "                           tf.keras.metrics.Precision(name='precision')])\n",
        "    return model"
      ],
      "metadata": {
        "id": "qCEsdzLmBh_K"
      },
      "execution_count": 64,
      "outputs": []
    },
    {
      "cell_type": "code",
      "source": [
        "# Define tuner object\n",
        "tuner = kt.Hyperband(build_model,\n",
        "                     objective='val_accuracy',\n",
        "                     max_epochs=50,\n",
        "                     overwrite = True,\n",
        "                     seed = 42,\n",
        "                    )"
      ],
      "metadata": {
        "id": "WWoIzc8nVgri",
        "colab": {
          "base_uri": "https://localhost:8080/"
        },
        "outputId": "964489f1-39ad-4569-d732-6837e10eeb17"
      },
      "execution_count": 67,
      "outputs": [
        {
          "output_type": "stream",
          "name": "stderr",
          "text": [
            "/usr/local/lib/python3.10/dist-packages/keras/src/layers/core/dense.py:87: UserWarning: Do not pass an `input_shape`/`input_dim` argument to a layer. When using Sequential models, prefer using an `Input(shape)` object as the first layer in the model instead.\n",
            "  super().__init__(activity_regularizer=activity_regularizer, **kwargs)\n"
          ]
        }
      ]
    },
    {
      "cell_type": "code",
      "source": [
        "# Run the tuner\n",
        "tuner.search(X_train_tf, y_train_bin, epochs=50,\n",
        "             validation_split=0.2,\n",
        "             callbacks = [early_stopping])"
      ],
      "metadata": {
        "colab": {
          "base_uri": "https://localhost:8080/"
        },
        "id": "NMNQ5lPDWR7p",
        "outputId": "997bda8e-92c4-4846-c1d2-ad706d723d1c"
      },
      "execution_count": 68,
      "outputs": [
        {
          "output_type": "stream",
          "name": "stdout",
          "text": [
            "Trial 90 Complete [00h 00m 07s]\n",
            "val_accuracy: 0.7460317611694336\n",
            "\n",
            "Best val_accuracy So Far: 0.8253968358039856\n",
            "Total elapsed time: 00h 09m 43s\n"
          ]
        }
      ]
    },
    {
      "cell_type": "code",
      "source": [
        "# Obtain best hyperparameter values\n",
        "best_hps=tuner.get_best_hyperparameters()[0]\n",
        "best_hps.values"
      ],
      "metadata": {
        "id": "sZjnc-44Wg_k",
        "colab": {
          "base_uri": "https://localhost:8080/"
        },
        "outputId": "b080146b-edd2-4237-9481-5559b611279d"
      },
      "execution_count": 69,
      "outputs": [
        {
          "output_type": "execute_result",
          "data": {
            "text/plain": [
              "{'units': 40,\n",
              " 'dropout_value': 0.0,\n",
              " 'optimizer': 'adam',\n",
              " 'tuner/epochs': 50,\n",
              " 'tuner/initial_epoch': 17,\n",
              " 'tuner/bracket': 3,\n",
              " 'tuner/round': 3,\n",
              " 'tuner/trial_id': '0046'}"
            ]
          },
          "metadata": {},
          "execution_count": 69
        }
      ]
    },
    {
      "cell_type": "code",
      "source": [
        "# Obtain best model\n",
        "best_model = tuner.get_best_models()[0]\n",
        "best_model.summary()"
      ],
      "metadata": {
        "id": "QvrKq517WkUV",
        "colab": {
          "base_uri": "https://localhost:8080/",
          "height": 350
        },
        "outputId": "6d2ed889-9617-407a-e40a-48b5df37c650"
      },
      "execution_count": 70,
      "outputs": [
        {
          "output_type": "stream",
          "name": "stderr",
          "text": [
            "/usr/local/lib/python3.10/dist-packages/keras/src/layers/core/dense.py:87: UserWarning: Do not pass an `input_shape`/`input_dim` argument to a layer. When using Sequential models, prefer using an `Input(shape)` object as the first layer in the model instead.\n",
            "  super().__init__(activity_regularizer=activity_regularizer, **kwargs)\n",
            "/usr/local/lib/python3.10/dist-packages/keras/src/saving/saving_lib.py:713: UserWarning: Skipping variable loading for optimizer 'adam', because it has 2 variables whereas the saved optimizer has 14 variables. \n",
            "  saveable.load_own_variables(weights_store.get(inner_path))\n"
          ]
        },
        {
          "output_type": "display_data",
          "data": {
            "text/plain": [
              "\u001b[1mModel: \"sequential\"\u001b[0m\n"
            ],
            "text/html": [
              "<pre style=\"white-space:pre;overflow-x:auto;line-height:normal;font-family:Menlo,'DejaVu Sans Mono',consolas,'Courier New',monospace\"><span style=\"font-weight: bold\">Model: \"sequential\"</span>\n",
              "</pre>\n"
            ]
          },
          "metadata": {}
        },
        {
          "output_type": "display_data",
          "data": {
            "text/plain": [
              "┏━━━━━━━━━━━━━━━━━━━━━━━━━━━━━━━━━━━━━━┳━━━━━━━━━━━━━━━━━━━━━━━━━━━━━┳━━━━━━━━━━━━━━━━━┓\n",
              "┃\u001b[1m \u001b[0m\u001b[1mLayer (type)                        \u001b[0m\u001b[1m \u001b[0m┃\u001b[1m \u001b[0m\u001b[1mOutput Shape               \u001b[0m\u001b[1m \u001b[0m┃\u001b[1m \u001b[0m\u001b[1m        Param #\u001b[0m\u001b[1m \u001b[0m┃\n",
              "┡━━━━━━━━━━━━━━━━━━━━━━━━━━━━━━━━━━━━━━╇━━━━━━━━━━━━━━━━━━━━━━━━━━━━━╇━━━━━━━━━━━━━━━━━┩\n",
              "│ dense (\u001b[38;5;33mDense\u001b[0m)                        │ (\u001b[38;5;45mNone\u001b[0m, \u001b[38;5;34m30\u001b[0m)                  │             \u001b[38;5;34m780\u001b[0m │\n",
              "├──────────────────────────────────────┼─────────────────────────────┼─────────────────┤\n",
              "│ dense_1 (\u001b[38;5;33mDense\u001b[0m)                      │ (\u001b[38;5;45mNone\u001b[0m, \u001b[38;5;34m40\u001b[0m)                  │           \u001b[38;5;34m1,240\u001b[0m │\n",
              "├──────────────────────────────────────┼─────────────────────────────┼─────────────────┤\n",
              "│ dropout (\u001b[38;5;33mDropout\u001b[0m)                    │ (\u001b[38;5;45mNone\u001b[0m, \u001b[38;5;34m40\u001b[0m)                  │               \u001b[38;5;34m0\u001b[0m │\n",
              "├──────────────────────────────────────┼─────────────────────────────┼─────────────────┤\n",
              "│ dense_2 (\u001b[38;5;33mDense\u001b[0m)                      │ (\u001b[38;5;45mNone\u001b[0m, \u001b[38;5;34m3\u001b[0m)                   │             \u001b[38;5;34m123\u001b[0m │\n",
              "└──────────────────────────────────────┴─────────────────────────────┴─────────────────┘\n"
            ],
            "text/html": [
              "<pre style=\"white-space:pre;overflow-x:auto;line-height:normal;font-family:Menlo,'DejaVu Sans Mono',consolas,'Courier New',monospace\">┏━━━━━━━━━━━━━━━━━━━━━━━━━━━━━━━━━━━━━━┳━━━━━━━━━━━━━━━━━━━━━━━━━━━━━┳━━━━━━━━━━━━━━━━━┓\n",
              "┃<span style=\"font-weight: bold\"> Layer (type)                         </span>┃<span style=\"font-weight: bold\"> Output Shape                </span>┃<span style=\"font-weight: bold\">         Param # </span>┃\n",
              "┡━━━━━━━━━━━━━━━━━━━━━━━━━━━━━━━━━━━━━━╇━━━━━━━━━━━━━━━━━━━━━━━━━━━━━╇━━━━━━━━━━━━━━━━━┩\n",
              "│ dense (<span style=\"color: #0087ff; text-decoration-color: #0087ff\">Dense</span>)                        │ (<span style=\"color: #00d7ff; text-decoration-color: #00d7ff\">None</span>, <span style=\"color: #00af00; text-decoration-color: #00af00\">30</span>)                  │             <span style=\"color: #00af00; text-decoration-color: #00af00\">780</span> │\n",
              "├──────────────────────────────────────┼─────────────────────────────┼─────────────────┤\n",
              "│ dense_1 (<span style=\"color: #0087ff; text-decoration-color: #0087ff\">Dense</span>)                      │ (<span style=\"color: #00d7ff; text-decoration-color: #00d7ff\">None</span>, <span style=\"color: #00af00; text-decoration-color: #00af00\">40</span>)                  │           <span style=\"color: #00af00; text-decoration-color: #00af00\">1,240</span> │\n",
              "├──────────────────────────────────────┼─────────────────────────────┼─────────────────┤\n",
              "│ dropout (<span style=\"color: #0087ff; text-decoration-color: #0087ff\">Dropout</span>)                    │ (<span style=\"color: #00d7ff; text-decoration-color: #00d7ff\">None</span>, <span style=\"color: #00af00; text-decoration-color: #00af00\">40</span>)                  │               <span style=\"color: #00af00; text-decoration-color: #00af00\">0</span> │\n",
              "├──────────────────────────────────────┼─────────────────────────────┼─────────────────┤\n",
              "│ dense_2 (<span style=\"color: #0087ff; text-decoration-color: #0087ff\">Dense</span>)                      │ (<span style=\"color: #00d7ff; text-decoration-color: #00d7ff\">None</span>, <span style=\"color: #00af00; text-decoration-color: #00af00\">3</span>)                   │             <span style=\"color: #00af00; text-decoration-color: #00af00\">123</span> │\n",
              "└──────────────────────────────────────┴─────────────────────────────┴─────────────────┘\n",
              "</pre>\n"
            ]
          },
          "metadata": {}
        },
        {
          "output_type": "display_data",
          "data": {
            "text/plain": [
              "\u001b[1m Total params: \u001b[0m\u001b[38;5;34m2,143\u001b[0m (8.37 KB)\n"
            ],
            "text/html": [
              "<pre style=\"white-space:pre;overflow-x:auto;line-height:normal;font-family:Menlo,'DejaVu Sans Mono',consolas,'Courier New',monospace\"><span style=\"font-weight: bold\"> Total params: </span><span style=\"color: #00af00; text-decoration-color: #00af00\">2,143</span> (8.37 KB)\n",
              "</pre>\n"
            ]
          },
          "metadata": {}
        },
        {
          "output_type": "display_data",
          "data": {
            "text/plain": [
              "\u001b[1m Trainable params: \u001b[0m\u001b[38;5;34m2,143\u001b[0m (8.37 KB)\n"
            ],
            "text/html": [
              "<pre style=\"white-space:pre;overflow-x:auto;line-height:normal;font-family:Menlo,'DejaVu Sans Mono',consolas,'Courier New',monospace\"><span style=\"font-weight: bold\"> Trainable params: </span><span style=\"color: #00af00; text-decoration-color: #00af00\">2,143</span> (8.37 KB)\n",
              "</pre>\n"
            ]
          },
          "metadata": {}
        },
        {
          "output_type": "display_data",
          "data": {
            "text/plain": [
              "\u001b[1m Non-trainable params: \u001b[0m\u001b[38;5;34m0\u001b[0m (0.00 B)\n"
            ],
            "text/html": [
              "<pre style=\"white-space:pre;overflow-x:auto;line-height:normal;font-family:Menlo,'DejaVu Sans Mono',consolas,'Courier New',monospace\"><span style=\"font-weight: bold\"> Non-trainable params: </span><span style=\"color: #00af00; text-decoration-color: #00af00\">0</span> (0.00 B)\n",
              "</pre>\n"
            ]
          },
          "metadata": {}
        }
      ]
    },
    {
      "cell_type": "code",
      "source": [
        "# Evaluate neural network with tuned optimizer, units, and dropout\n",
        "result = best_model.evaluate(X_test_tf, y_test_bin, return_dict=True)\n",
        "result"
      ],
      "metadata": {
        "id": "Eh4lknFLWkNc",
        "colab": {
          "base_uri": "https://localhost:8080/"
        },
        "outputId": "b6043402-dce7-44aa-fa18-9ab0eb99af49"
      },
      "execution_count": 72,
      "outputs": [
        {
          "output_type": "stream",
          "name": "stdout",
          "text": [
            "\u001b[1m4/4\u001b[0m \u001b[32m━━━━━━━━━━━━━━━━━━━━\u001b[0m\u001b[37m\u001b[0m \u001b[1m1s\u001b[0m 6ms/step - accuracy: 0.7877 - loss: 0.6256 - precision: 0.7886 - recall: 0.7364  \n"
          ]
        },
        {
          "output_type": "execute_result",
          "data": {
            "text/plain": [
              "{'accuracy': 0.7714285850524902,\n",
              " 'loss': 0.6207690238952637,\n",
              " 'precision': 0.7755101919174194,\n",
              " 'recall': 0.723809540271759}"
            ]
          },
          "metadata": {},
          "execution_count": 72
        }
      ]
    },
    {
      "cell_type": "code",
      "source": [
        "test_loss = result[\"loss\"]\n",
        "test_accuracy = result[\"accuracy\"]\n",
        "print(f\"Test Loss: {test_loss}, Test Accuracy: {test_accuracy}\")"
      ],
      "metadata": {
        "colab": {
          "base_uri": "https://localhost:8080/"
        },
        "id": "cOqUedAKcoNj",
        "outputId": "5148d157-eff3-4ea9-e3af-f0a722aff422"
      },
      "execution_count": 78,
      "outputs": [
        {
          "output_type": "stream",
          "name": "stdout",
          "text": [
            "Test Loss: 0.6207690238952637, Test Accuracy: 0.7714285850524902\n"
          ]
        }
      ]
    }
  ]
}